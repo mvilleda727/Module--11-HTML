


# Import relevant libraries
from splinter import Browser
from bs4 import BeautifulSoup
import matplotlib.pyplot as plt
import pandas as pd


browser = Browser('chrome')





# Visit the website
# https://static.bc-edx.com/data/web/mars_facts/temperature.html
url = "https://static.bc-edx.com/data/web/mars_facts/temperature.html"
browser.visit(url)





# Create a Beautiful Soup Object
html = browser.html
soup = BeautifulSoup(html, 'html.parser')


# Extract all rows of data
table = soup.find('table')
rows = table.find_all('tr')





# Create an empty list
data = []

# Loop through the scraped data to create a list of rows
for row in rows[1:]:
    cols = row.find_all('td')
    data.append([col.text.strip() for col in cols])


# Create a Pandas DataFrame by using the list of rows and a list of the column names
column_names = ["id", "terrestrial_date", "sol", "ls", "month", "min_temp", "pressure"]
mars_df = pd.DataFrame(data, columns=column_names)


# Confirm DataFrame was created successfully
print(mars_df.head())





# Examine data type of each column
print(mars_df.dtypes)


# Change data types for data analysis
mars_df["id"] = mars_df["id"].astype(int)
mars_df["terrestrial_date"] = pd.to_datetime(mars_df["terrestrial_date"])
mars_df["sol"] = mars_df["sol"].astype(int)
mars_df["ls"] = mars_df["ls"].astype(int)
mars_df["month"] = mars_df["month"].astype(int)
mars_df["min_temp"] = mars_df["min_temp"].astype(float)
mars_df["pressure"] = mars_df["pressure"].astype(float)


# Confirm type changes were successful by examining data types again
print(mars_df.dtypes)





# 1. How many months are there on Mars?
num_months = mars_df["month"].nunique()
print(num_months)


# 2. How many sols (Martian days) worth of data are there?
num_sols = mars_df["sol"].nunique()
print(num_sols)


# 3. What is the average minimum temperature by month?
avg_temp_by_month = mars_df.groupby("month")["min_temp"].mean()


# Plot the average minimum temperature by month
plt.figure(figsize=(10,5))
avg_temp_by_month.plot(kind="bar", color="blue")
plt.xlabel("Month")
plt.ylabel("Average Minimum Temperature (°C)")
plt.title("Average Minimum Temperature by Month on Mars")
plt.show()


# Identify the coldest and hottest months in Curiosity's location by sorting the previous graph
sorted_avg_temp_by_month = avg_temp_by_month.sort_values()
plt.figure(figsize=(10,5))
sorted_avg_temp_by_month.plot(kind="bar", color="blue")
plt.xlabel("Month")
plt.ylabel("Average Minimum Temperature (°C)")
plt.title("Coldest and Hottest Months on Mars (Sorted)")
plt.show()


# 4. What is the average pressure by month?
avg_pressure_by_month = mars_df.groupby("month")["pressure"].mean()


# Plot the average pressure by month
plt.figure(figsize=(10,5))
avg_pressure_by_month.plot(kind="bar", color="red")
plt.xlabel("Month")
plt.ylabel("Average Atmospheric Pressure")
plt.title("Average Atmospheric Pressure by Month on Mars")
plt.show()


# Identify the lowest and highest pressure months in Curiosity's location by sorting the previous graph
sorted_avg_pressure_by_month = avg_pressure_by_month.sort_values()
plt.figure(figsize=(10,5))
sorted_avg_pressure_by_month.plot(kind="bar", color="red")
plt.xlabel("Month")
plt.ylabel("Average Atmospheric Pressure (Pa)")
plt.title("Lowest and Highest Pressure Months on Mars (Sorted)")
plt.show()


# 5. How many terrestrial (Earth) days are there in a Martian year?
# Visually estimate the result by plotting the daily minimum temperature of each observation in the data set.















# Write the data to a CSV
mars_df.to_csv("mars_weather_data.csv", index=False)

print("Data successfully saved to mars_weather_data.csv")


browser.quit()
